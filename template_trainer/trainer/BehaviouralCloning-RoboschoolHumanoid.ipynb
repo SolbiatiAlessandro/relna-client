{
 "cells": [
  {
   "cell_type": "markdown",
   "metadata": {},
   "source": [
    "HW1 solution\n",
    "======"
   ]
  },
  {
   "cell_type": "markdown",
   "metadata": {},
   "source": [
    "## Behavioural cloning\n",
    "\n",
    "TODO:\n",
    "----\n",
    "1. generate rollouts\n",
    "This are sequences of the type expertSequence#1 = {s0 -> a0, s1 -> a1, s2 -> a3} done with the expert policy\n",
    "<br>\n",
    "\n",
    "- expert_data/something.pkl\n",
    "- big number -> 18101\n",
    "- observations.shape = (big number, 44)\n",
    "- actions.shape = (big number, 17)\n",
    "- returns.shape = (20, )\n",
    "<br>\n",
    "----\n",
    "2. implement behavioural cloning\n",
    "implement a neural net of the sort F(s) = a trained on all the expertSequence. Then create a policy using the neural net"
   ]
  },
  {
   "cell_type": "code",
   "execution_count": 1,
   "metadata": {},
   "outputs": [],
   "source": [
    "import pickle as pk"
   ]
  },
  {
   "cell_type": "code",
   "execution_count": 2,
   "metadata": {},
   "outputs": [],
   "source": [
    "expert_rollouts = pk.load(open(\"expert_data/RoboschoolHumanoid-v1.pkl\",\"rb\"))"
   ]
  },
  {
   "cell_type": "code",
   "execution_count": 3,
   "metadata": {},
   "outputs": [
    {
     "data": {
      "text/plain": [
       "{'observations': array([[ 2.3841858e-08,  9.6519969e-02,  9.9533105e-01, ...,\n",
       "          0.0000000e+00,  0.0000000e+00,  0.0000000e+00],\n",
       "        [-2.0956160e-03,  8.6720474e-02,  9.9623269e-01, ...,\n",
       "         -7.4585444e-01,  0.0000000e+00,  0.0000000e+00],\n",
       "        [-9.7385403e-03,  4.9320240e-02,  9.9878299e-01, ...,\n",
       "         -5.6518716e-01,  0.0000000e+00,  0.0000000e+00],\n",
       "        ...,\n",
       "        [-5.6102455e-01, -9.6735783e-02,  9.9531007e-01, ...,\n",
       "          1.3878012e-01,  0.0000000e+00,  1.0000000e+00],\n",
       "        [-5.7833594e-01,  3.6169939e-02,  9.9934566e-01, ...,\n",
       "          4.0903750e-01,  0.0000000e+00,  1.0000000e+00],\n",
       "        [-6.0214376e-01,  1.6259982e-01,  9.8669207e-01, ...,\n",
       "         -2.3979065e-01,  0.0000000e+00,  1.0000000e+00]], dtype=float32),\n",
       " 'actions': array([[-0.9874024 ,  0.83883409,  0.85504517, ..., -0.80231142,\n",
       "          0.38560634, -0.42560914],\n",
       "        [-0.21825224,  0.33224376,  0.18650389, ..., -1.34010936,\n",
       "         -0.75379524,  0.3031881 ],\n",
       "        [-0.304975  ,  0.82746133, -0.22355856, ..., -0.79349221,\n",
       "          0.4491637 , -0.3987259 ],\n",
       "        ...,\n",
       "        [ 0.10748234, -0.20043869,  0.00249623, ..., -0.80785929,\n",
       "          0.54270925, -0.18127595],\n",
       "        [ 0.0899834 ,  0.2642771 ,  0.00454421, ..., -0.09900315,\n",
       "          0.78340784, -0.7980647 ],\n",
       "        [-0.88687381, -0.56905418,  1.13693953, ...,  0.07808124,\n",
       "          0.98087088, -0.77484106]]),\n",
       " 'returns': array([3165.04309528,  -28.84899846, 3199.51872108, ..., 3230.88455932,\n",
       "        3137.1762468 ,  130.97648414])}"
      ]
     },
     "execution_count": 3,
     "metadata": {},
     "output_type": "execute_result"
    }
   ],
   "source": [
    "expert_rollouts"
   ]
  },
  {
   "cell_type": "code",
   "execution_count": 4,
   "metadata": {},
   "outputs": [
    {
     "data": {
      "text/plain": [
       "(1361450, 44)"
      ]
     },
     "execution_count": 4,
     "metadata": {},
     "output_type": "execute_result"
    }
   ],
   "source": [
    "expert_rollouts['observations'].shape"
   ]
  },
  {
   "cell_type": "code",
   "execution_count": 5,
   "metadata": {},
   "outputs": [
    {
     "data": {
      "text/plain": [
       "(1361450, 17)"
      ]
     },
     "execution_count": 5,
     "metadata": {},
     "output_type": "execute_result"
    }
   ],
   "source": [
    "expert_rollouts['actions'].shape"
   ]
  },
  {
   "cell_type": "code",
   "execution_count": 6,
   "metadata": {},
   "outputs": [
    {
     "data": {
      "text/plain": [
       "(1500,)"
      ]
     },
     "execution_count": 6,
     "metadata": {},
     "output_type": "execute_result"
    }
   ],
   "source": [
    "expert_rollouts['returns'].shape"
   ]
  },
  {
   "cell_type": "code",
   "execution_count": 7,
   "metadata": {},
   "outputs": [],
   "source": [
    "inputs = expert_rollouts['observations']\n",
    "outputs = expert_rollouts['actions']"
   ]
  },
  {
   "cell_type": "code",
   "execution_count": 8,
   "metadata": {},
   "outputs": [],
   "source": [
    "assert len(inputs) == len(outputs)"
   ]
  },
  {
   "cell_type": "code",
   "execution_count": 9,
   "metadata": {},
   "outputs": [
    {
     "name": "stdout",
     "output_type": "stream",
     "text": [
      "1089160\n"
     ]
    }
   ],
   "source": [
    "split = int(len(inputs)*0.8)\n",
    "print(split)"
   ]
  },
  {
   "cell_type": "code",
   "execution_count": 10,
   "metadata": {},
   "outputs": [],
   "source": [
    "X_train, y_train = inputs[:split], outputs[:split]\n",
    "X_test, y_test = inputs[split:], outputs[split:]"
   ]
  },
  {
   "cell_type": "markdown",
   "metadata": {},
   "source": [
    "model\n",
    "========"
   ]
  },
  {
   "cell_type": "code",
   "execution_count": 11,
   "metadata": {},
   "outputs": [],
   "source": [
    "import tensorflow as tf\n",
    "import numpy as np"
   ]
  },
  {
   "cell_type": "code",
   "execution_count": 12,
   "metadata": {},
   "outputs": [],
   "source": [
    "def tf_reset():\n",
    "    try:\n",
    "        sess.close()\n",
    "    except:\n",
    "        pass\n",
    "    tf.reset_default_graph()\n",
    "    return tf.Session()"
   ]
  },
  {
   "cell_type": "code",
   "execution_count": 13,
   "metadata": {},
   "outputs": [],
   "source": [
    "sess = tf_reset()\n",
    "def create_model():\n",
    "    input_ph = tf.placeholder(dtype=tf.float32, shape=[None, 44]) # [None, 1] is because is 1D array\n",
    "    output_ph = tf.placeholder(dtype=tf.float32, shape=[None, 17])\n",
    "    \n",
    "    W0 = tf.get_variable(name='W0', shape=[44, 30], initializer = tf.contrib.layers.variance_scaling_initializer())\n",
    "    W1 = tf.get_variable(name='W1', shape=[30, 23], initializer = tf.contrib.layers.variance_scaling_initializer())\n",
    "    W2 = tf.get_variable(name='W2', shape=[23, 17], initializer = tf.contrib.layers.variance_scaling_initializer())\n",
    "    \n",
    "    \n",
    "    b0 = tf.get_variable(name='b0', shape=[30], initializer = tf.constant_initializer(0))\n",
    "    b1 = tf.get_variable(name='b1', shape=[23], initializer = tf.constant_initializer(0))\n",
    "    b2 = tf.get_variable(name='b2', shape=[17], initializer = tf.constant_initializer(0))\n",
    "    \n",
    "    weights = [W0, W1, W2]\n",
    "    biases = [b0, b1, b2]\n",
    "    activations = [tf.nn.relu, tf.nn.relu, None]\n",
    "    \n",
    "    layer = input_ph\n",
    "    for W, b, activation in zip(weights, biases, activations):\n",
    "        layer = tf.matmul(layer, W) + b\n",
    "        if activation is not None:\n",
    "            layer = activation(layer)\n",
    "            \n",
    "    output_pred = layer\n",
    "    return input_ph, output_ph, output_pred"
   ]
  },
  {
   "cell_type": "code",
   "execution_count": 14,
   "metadata": {},
   "outputs": [
    {
     "name": "stdout",
     "output_type": "stream",
     "text": [
      "\n",
      "WARNING: The TensorFlow contrib module will not be included in TensorFlow 2.0.\n",
      "For more information, please see:\n",
      "  * https://github.com/tensorflow/community/blob/master/rfcs/20180907-contrib-sunset.md\n",
      "  * https://github.com/tensorflow/addons\n",
      "If you depend on functionality not listed there, please file an issue.\n",
      "\n",
      "WARNING:tensorflow:From /Users/alex/Desktop/Coding/AI/CS294_DeepReinforcementLearning/homeworks/hw1/venv/lib/python3.6/site-packages/tensorflow/python/framework/op_def_library.py:263: colocate_with (from tensorflow.python.framework.ops) is deprecated and will be removed in a future version.\n",
      "Instructions for updating:\n",
      "Colocations handled automatically by placer.\n"
     ]
    }
   ],
   "source": [
    "input_ph, output_ph, output_pred = create_model()"
   ]
  },
  {
   "cell_type": "code",
   "execution_count": 15,
   "metadata": {},
   "outputs": [],
   "source": [
    "\n",
    "mse = tf.reduce_mean(0.5 * tf.square(output_pred - output_ph)) # this is the mean square error\n",
    "opt = tf.train.AdamOptimizer().minimize(mse) # this is an operation that pereform gradient descent"
   ]
  },
  {
   "cell_type": "code",
   "execution_count": 16,
   "metadata": {},
   "outputs": [],
   "source": [
    "\n",
    "sess.run(tf.global_variables_initializer())\n",
    "saver = tf.train.Saver() # save weight as the training goes on"
   ]
  },
  {
   "cell_type": "code",
   "execution_count": 17,
   "metadata": {},
   "outputs": [
    {
     "name": "stdout",
     "output_type": "stream",
     "text": [
      "0000 mse : 0.263\n",
      "1000 mse : 0.035\n",
      "2000 mse : 0.039\n",
      "3000 mse : 0.035\n",
      "4000 mse : 0.042\n",
      "5000 mse : 0.027\n",
      "6000 mse : 0.030\n",
      "7000 mse : 0.017\n",
      "8000 mse : 0.022\n",
      "9000 mse : 0.016\n",
      "10000 mse : 0.019\n",
      "11000 mse : 0.018\n",
      "12000 mse : 0.070\n",
      "13000 mse : 0.016\n",
      "14000 mse : 0.026\n"
     ]
    }
   ],
   "source": [
    "#training\n",
    "batch_size = 32\n",
    "training_mse = []\n",
    "for training_step in range(15000):\n",
    "    #random batch\n",
    "    indices = np.random.randint(low = 0, high = len(X_train), size = batch_size)\n",
    "    input_batch = X_train[indices]\n",
    "    output_batch = y_train[indices]\n",
    "    \n",
    "    # run optimizer and get mse\n",
    "    _, mse_run = sess.run([opt, mse], feed_dict={input_ph: input_batch, output_ph: output_batch})\n",
    "    \n",
    "    training_mse.append(mse_run)\n",
    "    if training_step % 1000 == 0:\n",
    "        print('{0:04d} mse : {1:.3f}'.format(training_step, mse_run))\n",
    "        saver.save(sess, '/tmp/model.ckpt')"
   ]
  },
  {
   "cell_type": "code",
   "execution_count": 34,
   "metadata": {},
   "outputs": [
    {
     "data": {
      "image/png": "[encoded data removed]",
      "text/plain": [
       "<Figure size 1080x720 with 1 Axes>"
      ]
     },
     "metadata": {
      "needs_background": "light"
     },
     "output_type": "display_data"
    }
   ],
   "source": [
    "from matplotlib import pyplot as plt\n",
    "plt.figure(figsize=(15,10))\n",
    "plt.plot(training_mse)\n",
    "plt.show()"
   ]
  },
  {
   "cell_type": "code",
   "execution_count": 19,
   "metadata": {},
   "outputs": [
    {
     "name": "stdout",
     "output_type": "stream",
     "text": [
      "WARNING:tensorflow:From /Users/alex/Desktop/Coding/AI/CS294_DeepReinforcementLearning/homeworks/hw1/venv/lib/python3.6/site-packages/tensorflow/python/training/saver.py:1266: checkpoint_exists (from tensorflow.python.training.checkpoint_management) is deprecated and will be removed in a future version.\n",
      "Instructions for updating:\n",
      "Use standard file APIs to check for files with this prefix.\n",
      "INFO:tensorflow:Restoring parameters from /tmp/model.ckpt\n"
     ]
    }
   ],
   "source": [
    "sess = tf_reset()\n",
    "\n",
    "input_ph, output_ph, output_pred = create_model()\n",
    "saver = tf.train.Saver() \n",
    "saver.restore(sess, \"/tmp/model.ckpt\")"
   ]
  },
  {
   "cell_type": "code",
   "execution_count": 20,
   "metadata": {},
   "outputs": [],
   "source": [
    "# validation score was 0.03"
   ]
  },
  {
   "cell_type": "code",
   "execution_count": 21,
   "metadata": {},
   "outputs": [],
   "source": [
    "# prediction of only one action\n",
    "output_pred_run = sess.run(output_pred, feed_dict={input_ph: X_test[0].reshape((1,44))})"
   ]
  },
  {
   "cell_type": "code",
   "execution_count": 22,
   "metadata": {},
   "outputs": [
    {
     "data": {
      "text/plain": [
       "array([[-0.39005423,  0.42127615, -0.08623004,  0.45420158,  1.0112953 ,\n",
       "         0.7796109 ,  1.2127755 , -0.23097025,  0.41906315, -0.59298754,\n",
       "         0.23087093,  0.57446617,  0.15263124, -0.42977566,  0.24347153,\n",
       "         0.15330848, -0.6743186 ]], dtype=float32)"
      ]
     },
     "execution_count": 22,
     "metadata": {},
     "output_type": "execute_result"
    }
   ],
   "source": [
    "output_pred_run"
   ]
  },
  {
   "cell_type": "code",
   "execution_count": 23,
   "metadata": {},
   "outputs": [
    {
     "data": {
      "text/plain": [
       "array([-0.50397039,  0.05700608,  0.58186133,  0.53198933,  1.06056631,\n",
       "        0.93817242,  0.94312106, -0.55191704,  0.58013008, -0.76702804,\n",
       "        0.30369497,  0.46306147,  0.5077729 , -0.43422222,  0.15209415,\n",
       "       -0.07921408, -0.51329774])"
      ]
     },
     "execution_count": 23,
     "metadata": {},
     "output_type": "execute_result"
    }
   ],
   "source": [
    "y_test[0]"
   ]
  },
  {
   "cell_type": "code",
   "execution_count": 24,
   "metadata": {},
   "outputs": [],
   "source": [
    "mse = ((output_pred_run[0] - y_test[0])**2).mean(axis=None)"
   ]
  },
  {
   "cell_type": "code",
   "execution_count": 25,
   "metadata": {},
   "outputs": [
    {
     "data": {
      "text/plain": [
       "0.06410546981570324"
      ]
     },
     "execution_count": 25,
     "metadata": {},
     "output_type": "execute_result"
    }
   ],
   "source": [
    "mse"
   ]
  },
  {
   "cell_type": "code",
   "execution_count": 26,
   "metadata": {},
   "outputs": [],
   "source": [
    "import gym, roboschool"
   ]
  },
  {
   "cell_type": "code",
   "execution_count": 27,
   "metadata": {},
   "outputs": [
    {
     "name": "stderr",
     "output_type": "stream",
     "text": [
      "/Users/alex/Desktop/Coding/AI/CS294_DeepReinforcementLearning/homeworks/hw1/venv/lib/python3.6/site-packages/gym/envs/registration.py:14: PkgResourcesDeprecationWarning: Parameters to load are deprecated.  Call .resolve and .require separately.\n",
      "  result = entry_point.load(False)\n"
     ]
    }
   ],
   "source": [
    "env=gym.make(\"RoboschoolHumanoid-v1\")"
   ]
  },
  {
   "cell_type": "code",
   "execution_count": 28,
   "metadata": {},
   "outputs": [
    {
     "data": {
      "text/plain": [
       "<TimeLimit<RoboschoolHumanoid<RoboschoolHumanoid-v1>>>"
      ]
     },
     "execution_count": 28,
     "metadata": {},
     "output_type": "execute_result"
    }
   ],
   "source": [
    "env"
   ]
  },
  {
   "cell_type": "code",
   "execution_count": 29,
   "metadata": {},
   "outputs": [
    {
     "data": {
      "text/plain": [
       "['.DS_Store',\n",
       " '.ipynb_checkpoints',\n",
       " '.mypy_cache',\n",
       " '__pycache__',\n",
       " 'demo.bash',\n",
       " 'Dockerfile',\n",
       " 'expert_data',\n",
       " 'experts',\n",
       " 'imitation_trainer',\n",
       " 'load_policy.py',\n",
       " 'README.md',\n",
       " 'report.ipynb',\n",
       " 'report.md',\n",
       " 'requirements.txt',\n",
       " 'run_expert.py',\n",
       " 'template_trainer',\n",
       " 'tf_util.py',\n",
       " 'venv']"
      ]
     },
     "execution_count": 29,
     "metadata": {},
     "output_type": "execute_result"
    }
   ],
   "source": [
    "import os;os.listdir('.')"
   ]
  },
  {
   "cell_type": "code",
   "execution_count": 30,
   "metadata": {},
   "outputs": [],
   "source": [
    "import run_expert"
   ]
  },
  {
   "cell_type": "code",
   "execution_count": 31,
   "metadata": {},
   "outputs": [],
   "source": [
    "class Policy():\n",
    "    def __init__(self):\n",
    "        self.sess = tf_reset()\n",
    "\n",
    "        self.input_ph, self.output_ph, self.output_pred = create_model()\n",
    "        saver = tf.train.Saver() \n",
    "        saver.restore(self.sess, \"/tmp/model.ckpt\")\n",
    "        \n",
    "    def act(self, obs):\n",
    "        return self.sess.run(self.output_pred, feed_dict={self.input_ph: obs.reshape((1,44))})[0]"
   ]
  },
  {
   "cell_type": "code",
   "execution_count": 32,
   "metadata": {},
   "outputs": [
    {
     "name": "stdout",
     "output_type": "stream",
     "text": [
      "INFO:tensorflow:Restoring parameters from /tmp/model.ckpt\n"
     ]
    }
   ],
   "source": [
    "policy=Policy()"
   ]
  },
  {
   "cell_type": "code",
   "execution_count": 33,
   "metadata": {},
   "outputs": [
    {
     "name": "stdout",
     "output_type": "stream",
     "text": [
      "iter 0\n",
      "iter 1\n",
      "iter 2\n",
      "iter 3\n",
      "iter 4\n",
      "iter 5\n",
      "iter 6\n",
      "iter 7\n",
      "iter 8\n",
      "iter 9\n",
      "iter 10\n",
      "iter 11\n",
      "iter 12\n",
      "iter 13\n",
      "iter 14\n",
      "iter 15\n",
      "iter 16\n",
      "iter 17\n",
      "iter 18\n",
      "iter 19\n",
      "Env description: running trained model\n",
      "mean return 28.699276386019402\n",
      "std of return 20.43717688016007\n"
     ]
    },
    {
     "data": {
      "text/plain": [
       "{'observations': array([[ 6.0000002e-01,  1.5345940e-01,  9.8815495e-01, ...,\n",
       "          0.0000000e+00,  0.0000000e+00,  0.0000000e+00],\n",
       "        [ 5.9840208e-01,  1.4671719e-01,  9.8917848e-01, ...,\n",
       "         -4.0352097e-01,  0.0000000e+00,  0.0000000e+00],\n",
       "        [ 5.9249240e-01,  1.2677766e-01,  9.9193114e-01, ...,\n",
       "         -1.1085795e+00,  0.0000000e+00,  0.0000000e+00],\n",
       "        ...,\n",
       "        [ 4.5466363e-02, -2.1485394e-01,  9.7664618e-01, ...,\n",
       "          7.5086101e-04,  1.0000000e+00,  1.0000000e+00],\n",
       "        [ 2.2896923e-02, -2.1447738e-01,  9.7672898e-01, ...,\n",
       "          1.7778251e-04,  1.0000000e+00,  1.0000000e+00],\n",
       "        [-1.2080711e-03, -2.1162125e-01,  9.7735173e-01, ...,\n",
       "         -1.2263689e-04,  1.0000000e+00,  1.0000000e+00]], dtype=float32),\n",
       " 'actions': array([[-0.07540616,  0.33795065,  0.24046284, ..., -0.6096094 ,\n",
       "         -0.34360653, -0.1579293 ],\n",
       "        [-0.47287285,  0.08294906,  0.02303204, ..., -0.7040868 ,\n",
       "          0.14878842, -0.41954538],\n",
       "        [-0.50091654,  0.13382567, -0.11454692, ..., -0.7796309 ,\n",
       "          0.31213558, -0.47962582],\n",
       "        ...,\n",
       "        [-0.17240673, -0.13809966, -0.05430131, ..., -0.52884686,\n",
       "         -0.08875366, -0.1802172 ],\n",
       "        [-0.12686676, -0.06610726, -0.03861737, ..., -0.5544963 ,\n",
       "         -0.09598354, -0.16259432],\n",
       "        [-0.09498918, -0.10077283, -0.01733321, ..., -0.6059632 ,\n",
       "         -0.10091513, -0.14163071]], dtype=float32),\n",
       " 'returns': array([ 33.73172532,  41.2651469 ,  49.80449892,  64.42687023,\n",
       "         35.64281403,  15.73509028, -15.24892138,  38.31218886,\n",
       "         26.60338841,  23.9878636 ,  45.43976909,  41.56090475,\n",
       "         -7.84408797,  -7.01923643,  47.56994021,  40.82124911,\n",
       "         39.28899963,  11.87819382,  14.45430108,  33.57482925])}"
      ]
     },
     "execution_count": 33,
     "metadata": {},
     "output_type": "execute_result"
    }
   ],
   "source": [
    "run_expert.run_policy(env,policy,20,\"running trained model\",render=True)"
   ]
  },
  {
   "cell_type": "code",
   "execution_count": null,
   "metadata": {},
   "outputs": [],
   "source": []
  }
 ],
 "metadata": {
  "kernelspec": {
   "display_name": "Python 3",
   "language": "python",
   "name": "python3"
  },
  "language_info": {
   "codemirror_mode": {
    "name": "ipython",
    "version": 3
   },
   "file_extension": ".py",
   "mimetype": "text/x-python",
   "name": "python",
   "nbconvert_exporter": "python",
   "pygments_lexer": "ipython3",
   "version": "3.6.5"
  }
 },
 "nbformat": 4,
 "nbformat_minor": 2
}
